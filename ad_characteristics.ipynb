{
 "cells": [
  {
   "cell_type": "code",
   "execution_count": 34,
   "metadata": {},
   "outputs": [],
   "source": [
    "# Import libraries\n",
    "import pandas as pd\n",
    "\n",
    "# Load your CSV data\n",
    "df = pd.read_csv('/Users/maia/Desktop/NU-VIRT-DATA-PT-10-2023-U-LOLC/03-Projects/Project_3/youtube.csv')"
   ]
  },
  {
   "cell_type": "code",
   "execution_count": 35,
   "metadata": {},
   "outputs": [],
   "source": [
    "# Select defining characteristic columns\n",
    "categories = ['funny', 'show_product_quickly', 'patriotic', 'celebrity', 'danger', 'animals', 'use_sex']\n",
    "brands = ['Budweiser', 'Bud Light', 'Coca-Cola', 'Doritos', 'E-Trade', 'Hyundai', 'Kia', 'NFL', 'Pepsi', 'Toyota']\n",
    "\n",
    "# Filter df for the brands we care about\n",
    "# Looked up how to check if the Dataframe contains the specified value(s) from Chat GPT (isin)\n",
    "df_filtered = df[df['brand'].isin(brands)]\n",
    "\n",
    "# Aggregate the data\n",
    "aggregate_data = df_filtered.groupby('brand')[categories].sum().reset_index()\n"
   ]
  },
  {
   "cell_type": "code",
   "execution_count": 36,
   "metadata": {},
   "outputs": [],
   "source": [
    "# Create new labels to appear on the x-axis for aesthetics\n",
    "new_labels = ['Funny', 'Show Product Quickly', 'Patriotic', 'Celebrity', 'Danger', 'Animals', 'Use Sex']\n",
    "\n",
    "# Create a mapping dictionary from original to new labels\n",
    "category_mapping = dict(zip(categories, new_labels))\n"
   ]
  },
  {
   "cell_type": "code",
   "execution_count": 37,
   "metadata": {},
   "outputs": [
    {
     "data": {
      "application/vnd.plotly.v1+json": {
       "config": {
        "plotlyServerURL": "https://plot.ly"
       },
       "data": [
        {
         "hoverinfo": "y+name",
         "name": "Budweiser",
         "type": "bar",
         "x": [
          "Funny",
          "Show Product Quickly",
          "Patriotic",
          "Celebrity",
          "Danger",
          "Animals",
          "Use Sex"
         ],
         "y": [
          21,
          27,
          16,
          5,
          7,
          24,
          8
         ]
        },
        {
         "hoverinfo": "y+name",
         "name": "Bud Light",
         "type": "bar",
         "x": [
          "Funny",
          "Show Product Quickly",
          "Patriotic",
          "Celebrity",
          "Danger",
          "Animals",
          "Use Sex"
         ],
         "y": [
          60,
          52,
          3,
          17,
          27,
          24,
          27
         ]
        },
        {
         "hoverinfo": "y+name",
         "name": "Coca-Cola",
         "type": "bar",
         "x": [
          "Funny",
          "Show Product Quickly",
          "Patriotic",
          "Celebrity",
          "Danger",
          "Animals",
          "Use Sex"
         ],
         "y": [
          8,
          15,
          5,
          6,
          6,
          12,
          1
         ]
        },
        {
         "hoverinfo": "y+name",
         "name": "Doritos",
         "type": "bar",
         "x": [
          "Funny",
          "Show Product Quickly",
          "Patriotic",
          "Celebrity",
          "Danger",
          "Animals",
          "Use Sex"
         ],
         "y": [
          24,
          22,
          1,
          4,
          11,
          10,
          6
         ]
        },
        {
         "hoverinfo": "y+name",
         "name": "E-Trade",
         "type": "bar",
         "x": [
          "Funny",
          "Show Product Quickly",
          "Patriotic",
          "Celebrity",
          "Danger",
          "Animals",
          "Use Sex"
         ],
         "y": [
          12,
          7,
          2,
          0,
          3,
          4,
          3
         ]
        },
        {
         "hoverinfo": "y+name",
         "name": "Hyundai",
         "type": "bar",
         "x": [
          "Funny",
          "Show Product Quickly",
          "Patriotic",
          "Celebrity",
          "Danger",
          "Animals",
          "Use Sex"
         ],
         "y": []
        },
        {
         "hoverinfo": "y+name",
         "name": "Kia",
         "type": "bar",
         "x": [
          "Funny",
          "Show Product Quickly",
          "Patriotic",
          "Celebrity",
          "Danger",
          "Animals",
          "Use Sex"
         ],
         "y": [
          8,
          4,
          2,
          7,
          5,
          5,
          6
         ]
        },
        {
         "hoverinfo": "y+name",
         "name": "NFL",
         "type": "bar",
         "x": [
          "Funny",
          "Show Product Quickly",
          "Patriotic",
          "Celebrity",
          "Danger",
          "Animals",
          "Use Sex"
         ],
         "y": [
          2,
          6,
          4,
          8,
          0,
          0,
          0
         ]
        },
        {
         "hoverinfo": "y+name",
         "name": "Pepsi",
         "type": "bar",
         "x": [
          "Funny",
          "Show Product Quickly",
          "Patriotic",
          "Celebrity",
          "Danger",
          "Animals",
          "Use Sex"
         ],
         "y": [
          18,
          15,
          3,
          16,
          6,
          3,
          11
         ]
        },
        {
         "hoverinfo": "y+name",
         "name": "Toyota",
         "type": "bar",
         "x": [
          "Funny",
          "Show Product Quickly",
          "Patriotic",
          "Celebrity",
          "Danger",
          "Animals",
          "Use Sex"
         ],
         "y": [
          6,
          9,
          2,
          2,
          4,
          3,
          1
         ]
        }
       ],
       "layout": {
        "barmode": "stack",
        "legend": {
         "title": {
          "text": "Brand"
         }
        },
        "template": {
         "data": {
          "bar": [
           {
            "error_x": {
             "color": "#2a3f5f"
            },
            "error_y": {
             "color": "#2a3f5f"
            },
            "marker": {
             "line": {
              "color": "#E5ECF6",
              "width": 0.5
             },
             "pattern": {
              "fillmode": "overlay",
              "size": 10,
              "solidity": 0.2
             }
            },
            "type": "bar"
           }
          ],
          "barpolar": [
           {
            "marker": {
             "line": {
              "color": "#E5ECF6",
              "width": 0.5
             },
             "pattern": {
              "fillmode": "overlay",
              "size": 10,
              "solidity": 0.2
             }
            },
            "type": "barpolar"
           }
          ],
          "carpet": [
           {
            "aaxis": {
             "endlinecolor": "#2a3f5f",
             "gridcolor": "white",
             "linecolor": "white",
             "minorgridcolor": "white",
             "startlinecolor": "#2a3f5f"
            },
            "baxis": {
             "endlinecolor": "#2a3f5f",
             "gridcolor": "white",
             "linecolor": "white",
             "minorgridcolor": "white",
             "startlinecolor": "#2a3f5f"
            },
            "type": "carpet"
           }
          ],
          "choropleth": [
           {
            "colorbar": {
             "outlinewidth": 0,
             "ticks": ""
            },
            "type": "choropleth"
           }
          ],
          "contour": [
           {
            "colorbar": {
             "outlinewidth": 0,
             "ticks": ""
            },
            "colorscale": [
             [
              0,
              "#0d0887"
             ],
             [
              0.1111111111111111,
              "#46039f"
             ],
             [
              0.2222222222222222,
              "#7201a8"
             ],
             [
              0.3333333333333333,
              "#9c179e"
             ],
             [
              0.4444444444444444,
              "#bd3786"
             ],
             [
              0.5555555555555556,
              "#d8576b"
             ],
             [
              0.6666666666666666,
              "#ed7953"
             ],
             [
              0.7777777777777778,
              "#fb9f3a"
             ],
             [
              0.8888888888888888,
              "#fdca26"
             ],
             [
              1,
              "#f0f921"
             ]
            ],
            "type": "contour"
           }
          ],
          "contourcarpet": [
           {
            "colorbar": {
             "outlinewidth": 0,
             "ticks": ""
            },
            "type": "contourcarpet"
           }
          ],
          "heatmap": [
           {
            "colorbar": {
             "outlinewidth": 0,
             "ticks": ""
            },
            "colorscale": [
             [
              0,
              "#0d0887"
             ],
             [
              0.1111111111111111,
              "#46039f"
             ],
             [
              0.2222222222222222,
              "#7201a8"
             ],
             [
              0.3333333333333333,
              "#9c179e"
             ],
             [
              0.4444444444444444,
              "#bd3786"
             ],
             [
              0.5555555555555556,
              "#d8576b"
             ],
             [
              0.6666666666666666,
              "#ed7953"
             ],
             [
              0.7777777777777778,
              "#fb9f3a"
             ],
             [
              0.8888888888888888,
              "#fdca26"
             ],
             [
              1,
              "#f0f921"
             ]
            ],
            "type": "heatmap"
           }
          ],
          "heatmapgl": [
           {
            "colorbar": {
             "outlinewidth": 0,
             "ticks": ""
            },
            "colorscale": [
             [
              0,
              "#0d0887"
             ],
             [
              0.1111111111111111,
              "#46039f"
             ],
             [
              0.2222222222222222,
              "#7201a8"
             ],
             [
              0.3333333333333333,
              "#9c179e"
             ],
             [
              0.4444444444444444,
              "#bd3786"
             ],
             [
              0.5555555555555556,
              "#d8576b"
             ],
             [
              0.6666666666666666,
              "#ed7953"
             ],
             [
              0.7777777777777778,
              "#fb9f3a"
             ],
             [
              0.8888888888888888,
              "#fdca26"
             ],
             [
              1,
              "#f0f921"
             ]
            ],
            "type": "heatmapgl"
           }
          ],
          "histogram": [
           {
            "marker": {
             "pattern": {
              "fillmode": "overlay",
              "size": 10,
              "solidity": 0.2
             }
            },
            "type": "histogram"
           }
          ],
          "histogram2d": [
           {
            "colorbar": {
             "outlinewidth": 0,
             "ticks": ""
            },
            "colorscale": [
             [
              0,
              "#0d0887"
             ],
             [
              0.1111111111111111,
              "#46039f"
             ],
             [
              0.2222222222222222,
              "#7201a8"
             ],
             [
              0.3333333333333333,
              "#9c179e"
             ],
             [
              0.4444444444444444,
              "#bd3786"
             ],
             [
              0.5555555555555556,
              "#d8576b"
             ],
             [
              0.6666666666666666,
              "#ed7953"
             ],
             [
              0.7777777777777778,
              "#fb9f3a"
             ],
             [
              0.8888888888888888,
              "#fdca26"
             ],
             [
              1,
              "#f0f921"
             ]
            ],
            "type": "histogram2d"
           }
          ],
          "histogram2dcontour": [
           {
            "colorbar": {
             "outlinewidth": 0,
             "ticks": ""
            },
            "colorscale": [
             [
              0,
              "#0d0887"
             ],
             [
              0.1111111111111111,
              "#46039f"
             ],
             [
              0.2222222222222222,
              "#7201a8"
             ],
             [
              0.3333333333333333,
              "#9c179e"
             ],
             [
              0.4444444444444444,
              "#bd3786"
             ],
             [
              0.5555555555555556,
              "#d8576b"
             ],
             [
              0.6666666666666666,
              "#ed7953"
             ],
             [
              0.7777777777777778,
              "#fb9f3a"
             ],
             [
              0.8888888888888888,
              "#fdca26"
             ],
             [
              1,
              "#f0f921"
             ]
            ],
            "type": "histogram2dcontour"
           }
          ],
          "mesh3d": [
           {
            "colorbar": {
             "outlinewidth": 0,
             "ticks": ""
            },
            "type": "mesh3d"
           }
          ],
          "parcoords": [
           {
            "line": {
             "colorbar": {
              "outlinewidth": 0,
              "ticks": ""
             }
            },
            "type": "parcoords"
           }
          ],
          "pie": [
           {
            "automargin": true,
            "type": "pie"
           }
          ],
          "scatter": [
           {
            "fillpattern": {
             "fillmode": "overlay",
             "size": 10,
             "solidity": 0.2
            },
            "type": "scatter"
           }
          ],
          "scatter3d": [
           {
            "line": {
             "colorbar": {
              "outlinewidth": 0,
              "ticks": ""
             }
            },
            "marker": {
             "colorbar": {
              "outlinewidth": 0,
              "ticks": ""
             }
            },
            "type": "scatter3d"
           }
          ],
          "scattercarpet": [
           {
            "marker": {
             "colorbar": {
              "outlinewidth": 0,
              "ticks": ""
             }
            },
            "type": "scattercarpet"
           }
          ],
          "scattergeo": [
           {
            "marker": {
             "colorbar": {
              "outlinewidth": 0,
              "ticks": ""
             }
            },
            "type": "scattergeo"
           }
          ],
          "scattergl": [
           {
            "marker": {
             "colorbar": {
              "outlinewidth": 0,
              "ticks": ""
             }
            },
            "type": "scattergl"
           }
          ],
          "scattermapbox": [
           {
            "marker": {
             "colorbar": {
              "outlinewidth": 0,
              "ticks": ""
             }
            },
            "type": "scattermapbox"
           }
          ],
          "scatterpolar": [
           {
            "marker": {
             "colorbar": {
              "outlinewidth": 0,
              "ticks": ""
             }
            },
            "type": "scatterpolar"
           }
          ],
          "scatterpolargl": [
           {
            "marker": {
             "colorbar": {
              "outlinewidth": 0,
              "ticks": ""
             }
            },
            "type": "scatterpolargl"
           }
          ],
          "scatterternary": [
           {
            "marker": {
             "colorbar": {
              "outlinewidth": 0,
              "ticks": ""
             }
            },
            "type": "scatterternary"
           }
          ],
          "surface": [
           {
            "colorbar": {
             "outlinewidth": 0,
             "ticks": ""
            },
            "colorscale": [
             [
              0,
              "#0d0887"
             ],
             [
              0.1111111111111111,
              "#46039f"
             ],
             [
              0.2222222222222222,
              "#7201a8"
             ],
             [
              0.3333333333333333,
              "#9c179e"
             ],
             [
              0.4444444444444444,
              "#bd3786"
             ],
             [
              0.5555555555555556,
              "#d8576b"
             ],
             [
              0.6666666666666666,
              "#ed7953"
             ],
             [
              0.7777777777777778,
              "#fb9f3a"
             ],
             [
              0.8888888888888888,
              "#fdca26"
             ],
             [
              1,
              "#f0f921"
             ]
            ],
            "type": "surface"
           }
          ],
          "table": [
           {
            "cells": {
             "fill": {
              "color": "#EBF0F8"
             },
             "line": {
              "color": "white"
             }
            },
            "header": {
             "fill": {
              "color": "#C8D4E3"
             },
             "line": {
              "color": "white"
             }
            },
            "type": "table"
           }
          ]
         },
         "layout": {
          "annotationdefaults": {
           "arrowcolor": "#2a3f5f",
           "arrowhead": 0,
           "arrowwidth": 1
          },
          "autotypenumbers": "strict",
          "coloraxis": {
           "colorbar": {
            "outlinewidth": 0,
            "ticks": ""
           }
          },
          "colorscale": {
           "diverging": [
            [
             0,
             "#8e0152"
            ],
            [
             0.1,
             "#c51b7d"
            ],
            [
             0.2,
             "#de77ae"
            ],
            [
             0.3,
             "#f1b6da"
            ],
            [
             0.4,
             "#fde0ef"
            ],
            [
             0.5,
             "#f7f7f7"
            ],
            [
             0.6,
             "#e6f5d0"
            ],
            [
             0.7,
             "#b8e186"
            ],
            [
             0.8,
             "#7fbc41"
            ],
            [
             0.9,
             "#4d9221"
            ],
            [
             1,
             "#276419"
            ]
           ],
           "sequential": [
            [
             0,
             "#0d0887"
            ],
            [
             0.1111111111111111,
             "#46039f"
            ],
            [
             0.2222222222222222,
             "#7201a8"
            ],
            [
             0.3333333333333333,
             "#9c179e"
            ],
            [
             0.4444444444444444,
             "#bd3786"
            ],
            [
             0.5555555555555556,
             "#d8576b"
            ],
            [
             0.6666666666666666,
             "#ed7953"
            ],
            [
             0.7777777777777778,
             "#fb9f3a"
            ],
            [
             0.8888888888888888,
             "#fdca26"
            ],
            [
             1,
             "#f0f921"
            ]
           ],
           "sequentialminus": [
            [
             0,
             "#0d0887"
            ],
            [
             0.1111111111111111,
             "#46039f"
            ],
            [
             0.2222222222222222,
             "#7201a8"
            ],
            [
             0.3333333333333333,
             "#9c179e"
            ],
            [
             0.4444444444444444,
             "#bd3786"
            ],
            [
             0.5555555555555556,
             "#d8576b"
            ],
            [
             0.6666666666666666,
             "#ed7953"
            ],
            [
             0.7777777777777778,
             "#fb9f3a"
            ],
            [
             0.8888888888888888,
             "#fdca26"
            ],
            [
             1,
             "#f0f921"
            ]
           ]
          },
          "colorway": [
           "#636efa",
           "#EF553B",
           "#00cc96",
           "#ab63fa",
           "#FFA15A",
           "#19d3f3",
           "#FF6692",
           "#B6E880",
           "#FF97FF",
           "#FECB52"
          ],
          "font": {
           "color": "#2a3f5f"
          },
          "geo": {
           "bgcolor": "white",
           "lakecolor": "white",
           "landcolor": "#E5ECF6",
           "showlakes": true,
           "showland": true,
           "subunitcolor": "white"
          },
          "hoverlabel": {
           "align": "left"
          },
          "hovermode": "closest",
          "mapbox": {
           "style": "light"
          },
          "paper_bgcolor": "white",
          "plot_bgcolor": "#E5ECF6",
          "polar": {
           "angularaxis": {
            "gridcolor": "white",
            "linecolor": "white",
            "ticks": ""
           },
           "bgcolor": "#E5ECF6",
           "radialaxis": {
            "gridcolor": "white",
            "linecolor": "white",
            "ticks": ""
           }
          },
          "scene": {
           "xaxis": {
            "backgroundcolor": "#E5ECF6",
            "gridcolor": "white",
            "gridwidth": 2,
            "linecolor": "white",
            "showbackground": true,
            "ticks": "",
            "zerolinecolor": "white"
           },
           "yaxis": {
            "backgroundcolor": "#E5ECF6",
            "gridcolor": "white",
            "gridwidth": 2,
            "linecolor": "white",
            "showbackground": true,
            "ticks": "",
            "zerolinecolor": "white"
           },
           "zaxis": {
            "backgroundcolor": "#E5ECF6",
            "gridcolor": "white",
            "gridwidth": 2,
            "linecolor": "white",
            "showbackground": true,
            "ticks": "",
            "zerolinecolor": "white"
           }
          },
          "shapedefaults": {
           "line": {
            "color": "#2a3f5f"
           }
          },
          "ternary": {
           "aaxis": {
            "gridcolor": "white",
            "linecolor": "white",
            "ticks": ""
           },
           "baxis": {
            "gridcolor": "white",
            "linecolor": "white",
            "ticks": ""
           },
           "bgcolor": "#E5ECF6",
           "caxis": {
            "gridcolor": "white",
            "linecolor": "white",
            "ticks": ""
           }
          },
          "title": {
           "x": 0.05
          },
          "xaxis": {
           "automargin": true,
           "gridcolor": "white",
           "linecolor": "white",
           "ticks": "",
           "title": {
            "standoff": 15
           },
           "zerolinecolor": "white",
           "zerolinewidth": 2
          },
          "yaxis": {
           "automargin": true,
           "gridcolor": "white",
           "linecolor": "white",
           "ticks": "",
           "title": {
            "standoff": 15
           },
           "zerolinecolor": "white",
           "zerolinewidth": 2
          }
         }
        },
        "title": {
         "text": "Number of Advertisements by Ad Characteristics"
        },
        "xaxis": {
         "title": {
          "text": "Category"
         }
        },
        "yaxis": {
         "title": {
          "text": "Number of Advertisements"
         }
        }
       }
      }
     },
     "metadata": {},
     "output_type": "display_data"
    }
   ],
   "source": [
    "# Used code from https://plotly.com/python/bar-charts/\n",
    "import plotly.graph_objects as go\n",
    "\n",
    "# Create a figure\n",
    "fig = go.Figure()\n",
    "\n",
    "for brand in brands:\n",
    "    fig.add_trace(go.Bar(\n",
    "        name=brand,\n",
    "        x=new_labels,\n",
    "        y=aggregate_data[aggregate_data['brand'] == brand][categories].values.flatten(),\n",
    "        hoverinfo='y+name'\n",
    "    ))\n",
    "\n",
    "fig.update_layout(\n",
    "    barmode='stack',\n",
    "    title='Number of Advertisements by Ad Characteristics',\n",
    "    xaxis_title='Category',\n",
    "    yaxis_title='Number of Advertisements',\n",
    "    legend_title='Brand'\n",
    ")\n",
    "\n",
    "fig.show()\n"
   ]
  },
  {
   "cell_type": "code",
   "execution_count": 38,
   "metadata": {},
   "outputs": [],
   "source": [
    "# Save static image to Graphs folder \n",
    "file_path = '/Users/maia/Desktop/NU-VIRT-DATA-PT-10-2023-U-LOLC/03-Projects/Project_3/Graphs/ad_characteristic_graph.png'\n",
    "\n",
    "# Export as a static image\n",
    "fig.write_image(file_path)"
   ]
  },
  {
   "cell_type": "code",
   "execution_count": 39,
   "metadata": {},
   "outputs": [],
   "source": [
    "# Save interactive image to Graphs folder \n",
    "file_path = '/Users/maia/Desktop/NU-VIRT-DATA-PT-10-2023-U-LOLC/03-Projects/Project_3/Graphs/ad_characteristic_graph.html'\n",
    "\n",
    "# Export as an interactive HTML file\n",
    "fig.write_html(file_path)"
   ]
  },
  {
   "cell_type": "code",
   "execution_count": 40,
   "metadata": {},
   "outputs": [],
   "source": [
    "# Melt the aggregated data to get a long-form dataframe suitable for the sunburst chart\n",
    "df_melted = pd.melt(aggregate_data, id_vars=['brand'], value_vars=categories, var_name='category', value_name='value')\n",
    "\n",
    "# Map the original category names to the new, more aesthetic names\n",
    "df_melted['category'] = df_melted['category'].map(category_mapping)"
   ]
  },
  {
   "cell_type": "code",
   "execution_count": 41,
   "metadata": {},
   "outputs": [
    {
     "data": {
      "application/vnd.plotly.v1+json": {
       "config": {
        "plotlyServerURL": "https://plot.ly"
       },
       "data": [
        {
         "branchvalues": "total",
         "customdata": [
          [
           "Bud Light"
          ],
          [
           "Bud Light"
          ],
          [
           "Bud Light"
          ],
          [
           "Bud Light"
          ],
          [
           "Bud Light"
          ],
          [
           "Bud Light"
          ],
          [
           "Bud Light"
          ],
          [
           "Budweiser"
          ],
          [
           "Budweiser"
          ],
          [
           "Budweiser"
          ],
          [
           "Budweiser"
          ],
          [
           "Budweiser"
          ],
          [
           "Budweiser"
          ],
          [
           "Budweiser"
          ],
          [
           "Coca-Cola"
          ],
          [
           "Coca-Cola"
          ],
          [
           "Coca-Cola"
          ],
          [
           "Coca-Cola"
          ],
          [
           "Coca-Cola"
          ],
          [
           "Coca-Cola"
          ],
          [
           "Coca-Cola"
          ],
          [
           "Doritos"
          ],
          [
           "Doritos"
          ],
          [
           "Doritos"
          ],
          [
           "Doritos"
          ],
          [
           "Doritos"
          ],
          [
           "Doritos"
          ],
          [
           "Doritos"
          ],
          [
           "E-Trade"
          ],
          [
           "E-Trade"
          ],
          [
           "E-Trade"
          ],
          [
           "E-Trade"
          ],
          [
           "E-Trade"
          ],
          [
           "E-Trade"
          ],
          [
           "E-Trade"
          ],
          [
           "Kia"
          ],
          [
           "Kia"
          ],
          [
           "Kia"
          ],
          [
           "Kia"
          ],
          [
           "Kia"
          ],
          [
           "Kia"
          ],
          [
           "Kia"
          ],
          [
           "NFL"
          ],
          [
           "NFL"
          ],
          [
           "NFL"
          ],
          [
           "NFL"
          ],
          [
           "NFL"
          ],
          [
           "NFL"
          ],
          [
           "NFL"
          ],
          [
           "Pepsi"
          ],
          [
           "Pepsi"
          ],
          [
           "Pepsi"
          ],
          [
           "Pepsi"
          ],
          [
           "Pepsi"
          ],
          [
           "Pepsi"
          ],
          [
           "Pepsi"
          ],
          [
           "Toyota"
          ],
          [
           "Toyota"
          ],
          [
           "Toyota"
          ],
          [
           "Toyota"
          ],
          [
           "Toyota"
          ],
          [
           "Toyota"
          ],
          [
           "Toyota"
          ],
          [
           "Bud Light"
          ],
          [
           "Budweiser"
          ],
          [
           "Coca-Cola"
          ],
          [
           "Doritos"
          ],
          [
           "E-Trade"
          ],
          [
           "Kia"
          ],
          [
           "NFL"
          ],
          [
           "Pepsi"
          ],
          [
           "Toyota"
          ]
         ],
         "domain": {
          "x": [
           0,
           1
          ],
          "y": [
           0,
           1
          ]
         },
         "hovertemplate": "labels=%{label}<br>value=%{value}<br>parent=%{parent}<br>id=%{id}<br>brand=%{customdata[0]}<extra></extra>",
         "ids": [
          "Bud Light/Animals",
          "Bud Light/Funny",
          "Bud Light/Patriotic",
          "Bud Light/Use Sex",
          "Bud Light/Celebrity",
          "Bud Light/Danger",
          "Bud Light/Show Product Quickly",
          "Budweiser/Animals",
          "Budweiser/Funny",
          "Budweiser/Patriotic",
          "Budweiser/Use Sex",
          "Budweiser/Celebrity",
          "Budweiser/Danger",
          "Budweiser/Show Product Quickly",
          "Coca-Cola/Patriotic",
          "Coca-Cola/Danger",
          "Coca-Cola/Show Product Quickly",
          "Coca-Cola/Celebrity",
          "Coca-Cola/Use Sex",
          "Coca-Cola/Animals",
          "Coca-Cola/Funny",
          "Doritos/Show Product Quickly",
          "Doritos/Celebrity",
          "Doritos/Danger",
          "Doritos/Patriotic",
          "Doritos/Use Sex",
          "Doritos/Animals",
          "Doritos/Funny",
          "E-Trade/Show Product Quickly",
          "E-Trade/Patriotic",
          "E-Trade/Use Sex",
          "E-Trade/Funny",
          "E-Trade/Animals",
          "E-Trade/Danger",
          "E-Trade/Celebrity",
          "Kia/Funny",
          "Kia/Use Sex",
          "Kia/Animals",
          "Kia/Danger",
          "Kia/Patriotic",
          "Kia/Show Product Quickly",
          "Kia/Celebrity",
          "NFL/Use Sex",
          "NFL/Animals",
          "NFL/Show Product Quickly",
          "NFL/Celebrity",
          "NFL/Funny",
          "NFL/Patriotic",
          "NFL/Danger",
          "Pepsi/Celebrity",
          "Pepsi/Use Sex",
          "Pepsi/Patriotic",
          "Pepsi/Show Product Quickly",
          "Pepsi/Funny",
          "Pepsi/Animals",
          "Pepsi/Danger",
          "Toyota/Funny",
          "Toyota/Animals",
          "Toyota/Celebrity",
          "Toyota/Show Product Quickly",
          "Toyota/Patriotic",
          "Toyota/Danger",
          "Toyota/Use Sex",
          "Bud Light",
          "Budweiser",
          "Coca-Cola",
          "Doritos",
          "E-Trade",
          "Kia",
          "NFL",
          "Pepsi",
          "Toyota"
         ],
         "labels": [
          "Animals",
          "Funny",
          "Patriotic",
          "Use Sex",
          "Celebrity",
          "Danger",
          "Show Product Quickly",
          "Animals",
          "Funny",
          "Patriotic",
          "Use Sex",
          "Celebrity",
          "Danger",
          "Show Product Quickly",
          "Patriotic",
          "Danger",
          "Show Product Quickly",
          "Celebrity",
          "Use Sex",
          "Animals",
          "Funny",
          "Show Product Quickly",
          "Celebrity",
          "Danger",
          "Patriotic",
          "Use Sex",
          "Animals",
          "Funny",
          "Show Product Quickly",
          "Patriotic",
          "Use Sex",
          "Funny",
          "Animals",
          "Danger",
          "Celebrity",
          "Funny",
          "Use Sex",
          "Animals",
          "Danger",
          "Patriotic",
          "Show Product Quickly",
          "Celebrity",
          "Use Sex",
          "Animals",
          "Show Product Quickly",
          "Celebrity",
          "Funny",
          "Patriotic",
          "Danger",
          "Celebrity",
          "Use Sex",
          "Patriotic",
          "Show Product Quickly",
          "Funny",
          "Animals",
          "Danger",
          "Funny",
          "Animals",
          "Celebrity",
          "Show Product Quickly",
          "Patriotic",
          "Danger",
          "Use Sex",
          "Bud Light",
          "Budweiser",
          "Coca-Cola",
          "Doritos",
          "E-Trade",
          "Kia",
          "NFL",
          "Pepsi",
          "Toyota"
         ],
         "marker": {
          "colors": [
           "#636efa",
           "#636efa",
           "#636efa",
           "#636efa",
           "#636efa",
           "#636efa",
           "#636efa",
           "#EF553B",
           "#EF553B",
           "#EF553B",
           "#EF553B",
           "#EF553B",
           "#EF553B",
           "#EF553B",
           "#00cc96",
           "#00cc96",
           "#00cc96",
           "#00cc96",
           "#00cc96",
           "#00cc96",
           "#00cc96",
           "#ab63fa",
           "#ab63fa",
           "#ab63fa",
           "#ab63fa",
           "#ab63fa",
           "#ab63fa",
           "#ab63fa",
           "#FFA15A",
           "#FFA15A",
           "#FFA15A",
           "#FFA15A",
           "#FFA15A",
           "#FFA15A",
           "#FFA15A",
           "#19d3f3",
           "#19d3f3",
           "#19d3f3",
           "#19d3f3",
           "#19d3f3",
           "#19d3f3",
           "#19d3f3",
           "#FF6692",
           "#FF6692",
           "#FF6692",
           "#FF6692",
           "#FF6692",
           "#FF6692",
           "#FF6692",
           "#B6E880",
           "#B6E880",
           "#B6E880",
           "#B6E880",
           "#B6E880",
           "#B6E880",
           "#B6E880",
           "#FF97FF",
           "#FF97FF",
           "#FF97FF",
           "#FF97FF",
           "#FF97FF",
           "#FF97FF",
           "#FF97FF",
           "#636efa",
           "#EF553B",
           "#00cc96",
           "#ab63fa",
           "#FFA15A",
           "#19d3f3",
           "#FF6692",
           "#B6E880",
           "#FF97FF"
          ]
         },
         "name": "",
         "parents": [
          "Bud Light",
          "Bud Light",
          "Bud Light",
          "Bud Light",
          "Bud Light",
          "Bud Light",
          "Bud Light",
          "Budweiser",
          "Budweiser",
          "Budweiser",
          "Budweiser",
          "Budweiser",
          "Budweiser",
          "Budweiser",
          "Coca-Cola",
          "Coca-Cola",
          "Coca-Cola",
          "Coca-Cola",
          "Coca-Cola",
          "Coca-Cola",
          "Coca-Cola",
          "Doritos",
          "Doritos",
          "Doritos",
          "Doritos",
          "Doritos",
          "Doritos",
          "Doritos",
          "E-Trade",
          "E-Trade",
          "E-Trade",
          "E-Trade",
          "E-Trade",
          "E-Trade",
          "E-Trade",
          "Kia",
          "Kia",
          "Kia",
          "Kia",
          "Kia",
          "Kia",
          "Kia",
          "NFL",
          "NFL",
          "NFL",
          "NFL",
          "NFL",
          "NFL",
          "NFL",
          "Pepsi",
          "Pepsi",
          "Pepsi",
          "Pepsi",
          "Pepsi",
          "Pepsi",
          "Pepsi",
          "Toyota",
          "Toyota",
          "Toyota",
          "Toyota",
          "Toyota",
          "Toyota",
          "Toyota",
          "",
          "",
          "",
          "",
          "",
          "",
          "",
          "",
          ""
         ],
         "type": "sunburst",
         "values": [
          24,
          60,
          3,
          27,
          17,
          27,
          52,
          24,
          21,
          16,
          8,
          5,
          7,
          27,
          5,
          6,
          15,
          6,
          1,
          12,
          8,
          22,
          4,
          11,
          1,
          6,
          10,
          24,
          7,
          2,
          3,
          12,
          4,
          3,
          0,
          8,
          6,
          5,
          5,
          2,
          4,
          7,
          0,
          0,
          6,
          8,
          2,
          4,
          0,
          16,
          11,
          3,
          15,
          18,
          3,
          6,
          6,
          3,
          2,
          9,
          2,
          4,
          1,
          210,
          108,
          53,
          78,
          31,
          37,
          20,
          72,
          27
         ]
        }
       ],
       "layout": {
        "legend": {
         "tracegroupgap": 0
        },
        "template": {
         "data": {
          "bar": [
           {
            "error_x": {
             "color": "#2a3f5f"
            },
            "error_y": {
             "color": "#2a3f5f"
            },
            "marker": {
             "line": {
              "color": "#E5ECF6",
              "width": 0.5
             },
             "pattern": {
              "fillmode": "overlay",
              "size": 10,
              "solidity": 0.2
             }
            },
            "type": "bar"
           }
          ],
          "barpolar": [
           {
            "marker": {
             "line": {
              "color": "#E5ECF6",
              "width": 0.5
             },
             "pattern": {
              "fillmode": "overlay",
              "size": 10,
              "solidity": 0.2
             }
            },
            "type": "barpolar"
           }
          ],
          "carpet": [
           {
            "aaxis": {
             "endlinecolor": "#2a3f5f",
             "gridcolor": "white",
             "linecolor": "white",
             "minorgridcolor": "white",
             "startlinecolor": "#2a3f5f"
            },
            "baxis": {
             "endlinecolor": "#2a3f5f",
             "gridcolor": "white",
             "linecolor": "white",
             "minorgridcolor": "white",
             "startlinecolor": "#2a3f5f"
            },
            "type": "carpet"
           }
          ],
          "choropleth": [
           {
            "colorbar": {
             "outlinewidth": 0,
             "ticks": ""
            },
            "type": "choropleth"
           }
          ],
          "contour": [
           {
            "colorbar": {
             "outlinewidth": 0,
             "ticks": ""
            },
            "colorscale": [
             [
              0,
              "#0d0887"
             ],
             [
              0.1111111111111111,
              "#46039f"
             ],
             [
              0.2222222222222222,
              "#7201a8"
             ],
             [
              0.3333333333333333,
              "#9c179e"
             ],
             [
              0.4444444444444444,
              "#bd3786"
             ],
             [
              0.5555555555555556,
              "#d8576b"
             ],
             [
              0.6666666666666666,
              "#ed7953"
             ],
             [
              0.7777777777777778,
              "#fb9f3a"
             ],
             [
              0.8888888888888888,
              "#fdca26"
             ],
             [
              1,
              "#f0f921"
             ]
            ],
            "type": "contour"
           }
          ],
          "contourcarpet": [
           {
            "colorbar": {
             "outlinewidth": 0,
             "ticks": ""
            },
            "type": "contourcarpet"
           }
          ],
          "heatmap": [
           {
            "colorbar": {
             "outlinewidth": 0,
             "ticks": ""
            },
            "colorscale": [
             [
              0,
              "#0d0887"
             ],
             [
              0.1111111111111111,
              "#46039f"
             ],
             [
              0.2222222222222222,
              "#7201a8"
             ],
             [
              0.3333333333333333,
              "#9c179e"
             ],
             [
              0.4444444444444444,
              "#bd3786"
             ],
             [
              0.5555555555555556,
              "#d8576b"
             ],
             [
              0.6666666666666666,
              "#ed7953"
             ],
             [
              0.7777777777777778,
              "#fb9f3a"
             ],
             [
              0.8888888888888888,
              "#fdca26"
             ],
             [
              1,
              "#f0f921"
             ]
            ],
            "type": "heatmap"
           }
          ],
          "heatmapgl": [
           {
            "colorbar": {
             "outlinewidth": 0,
             "ticks": ""
            },
            "colorscale": [
             [
              0,
              "#0d0887"
             ],
             [
              0.1111111111111111,
              "#46039f"
             ],
             [
              0.2222222222222222,
              "#7201a8"
             ],
             [
              0.3333333333333333,
              "#9c179e"
             ],
             [
              0.4444444444444444,
              "#bd3786"
             ],
             [
              0.5555555555555556,
              "#d8576b"
             ],
             [
              0.6666666666666666,
              "#ed7953"
             ],
             [
              0.7777777777777778,
              "#fb9f3a"
             ],
             [
              0.8888888888888888,
              "#fdca26"
             ],
             [
              1,
              "#f0f921"
             ]
            ],
            "type": "heatmapgl"
           }
          ],
          "histogram": [
           {
            "marker": {
             "pattern": {
              "fillmode": "overlay",
              "size": 10,
              "solidity": 0.2
             }
            },
            "type": "histogram"
           }
          ],
          "histogram2d": [
           {
            "colorbar": {
             "outlinewidth": 0,
             "ticks": ""
            },
            "colorscale": [
             [
              0,
              "#0d0887"
             ],
             [
              0.1111111111111111,
              "#46039f"
             ],
             [
              0.2222222222222222,
              "#7201a8"
             ],
             [
              0.3333333333333333,
              "#9c179e"
             ],
             [
              0.4444444444444444,
              "#bd3786"
             ],
             [
              0.5555555555555556,
              "#d8576b"
             ],
             [
              0.6666666666666666,
              "#ed7953"
             ],
             [
              0.7777777777777778,
              "#fb9f3a"
             ],
             [
              0.8888888888888888,
              "#fdca26"
             ],
             [
              1,
              "#f0f921"
             ]
            ],
            "type": "histogram2d"
           }
          ],
          "histogram2dcontour": [
           {
            "colorbar": {
             "outlinewidth": 0,
             "ticks": ""
            },
            "colorscale": [
             [
              0,
              "#0d0887"
             ],
             [
              0.1111111111111111,
              "#46039f"
             ],
             [
              0.2222222222222222,
              "#7201a8"
             ],
             [
              0.3333333333333333,
              "#9c179e"
             ],
             [
              0.4444444444444444,
              "#bd3786"
             ],
             [
              0.5555555555555556,
              "#d8576b"
             ],
             [
              0.6666666666666666,
              "#ed7953"
             ],
             [
              0.7777777777777778,
              "#fb9f3a"
             ],
             [
              0.8888888888888888,
              "#fdca26"
             ],
             [
              1,
              "#f0f921"
             ]
            ],
            "type": "histogram2dcontour"
           }
          ],
          "mesh3d": [
           {
            "colorbar": {
             "outlinewidth": 0,
             "ticks": ""
            },
            "type": "mesh3d"
           }
          ],
          "parcoords": [
           {
            "line": {
             "colorbar": {
              "outlinewidth": 0,
              "ticks": ""
             }
            },
            "type": "parcoords"
           }
          ],
          "pie": [
           {
            "automargin": true,
            "type": "pie"
           }
          ],
          "scatter": [
           {
            "fillpattern": {
             "fillmode": "overlay",
             "size": 10,
             "solidity": 0.2
            },
            "type": "scatter"
           }
          ],
          "scatter3d": [
           {
            "line": {
             "colorbar": {
              "outlinewidth": 0,
              "ticks": ""
             }
            },
            "marker": {
             "colorbar": {
              "outlinewidth": 0,
              "ticks": ""
             }
            },
            "type": "scatter3d"
           }
          ],
          "scattercarpet": [
           {
            "marker": {
             "colorbar": {
              "outlinewidth": 0,
              "ticks": ""
             }
            },
            "type": "scattercarpet"
           }
          ],
          "scattergeo": [
           {
            "marker": {
             "colorbar": {
              "outlinewidth": 0,
              "ticks": ""
             }
            },
            "type": "scattergeo"
           }
          ],
          "scattergl": [
           {
            "marker": {
             "colorbar": {
              "outlinewidth": 0,
              "ticks": ""
             }
            },
            "type": "scattergl"
           }
          ],
          "scattermapbox": [
           {
            "marker": {
             "colorbar": {
              "outlinewidth": 0,
              "ticks": ""
             }
            },
            "type": "scattermapbox"
           }
          ],
          "scatterpolar": [
           {
            "marker": {
             "colorbar": {
              "outlinewidth": 0,
              "ticks": ""
             }
            },
            "type": "scatterpolar"
           }
          ],
          "scatterpolargl": [
           {
            "marker": {
             "colorbar": {
              "outlinewidth": 0,
              "ticks": ""
             }
            },
            "type": "scatterpolargl"
           }
          ],
          "scatterternary": [
           {
            "marker": {
             "colorbar": {
              "outlinewidth": 0,
              "ticks": ""
             }
            },
            "type": "scatterternary"
           }
          ],
          "surface": [
           {
            "colorbar": {
             "outlinewidth": 0,
             "ticks": ""
            },
            "colorscale": [
             [
              0,
              "#0d0887"
             ],
             [
              0.1111111111111111,
              "#46039f"
             ],
             [
              0.2222222222222222,
              "#7201a8"
             ],
             [
              0.3333333333333333,
              "#9c179e"
             ],
             [
              0.4444444444444444,
              "#bd3786"
             ],
             [
              0.5555555555555556,
              "#d8576b"
             ],
             [
              0.6666666666666666,
              "#ed7953"
             ],
             [
              0.7777777777777778,
              "#fb9f3a"
             ],
             [
              0.8888888888888888,
              "#fdca26"
             ],
             [
              1,
              "#f0f921"
             ]
            ],
            "type": "surface"
           }
          ],
          "table": [
           {
            "cells": {
             "fill": {
              "color": "#EBF0F8"
             },
             "line": {
              "color": "white"
             }
            },
            "header": {
             "fill": {
              "color": "#C8D4E3"
             },
             "line": {
              "color": "white"
             }
            },
            "type": "table"
           }
          ]
         },
         "layout": {
          "annotationdefaults": {
           "arrowcolor": "#2a3f5f",
           "arrowhead": 0,
           "arrowwidth": 1
          },
          "autotypenumbers": "strict",
          "coloraxis": {
           "colorbar": {
            "outlinewidth": 0,
            "ticks": ""
           }
          },
          "colorscale": {
           "diverging": [
            [
             0,
             "#8e0152"
            ],
            [
             0.1,
             "#c51b7d"
            ],
            [
             0.2,
             "#de77ae"
            ],
            [
             0.3,
             "#f1b6da"
            ],
            [
             0.4,
             "#fde0ef"
            ],
            [
             0.5,
             "#f7f7f7"
            ],
            [
             0.6,
             "#e6f5d0"
            ],
            [
             0.7,
             "#b8e186"
            ],
            [
             0.8,
             "#7fbc41"
            ],
            [
             0.9,
             "#4d9221"
            ],
            [
             1,
             "#276419"
            ]
           ],
           "sequential": [
            [
             0,
             "#0d0887"
            ],
            [
             0.1111111111111111,
             "#46039f"
            ],
            [
             0.2222222222222222,
             "#7201a8"
            ],
            [
             0.3333333333333333,
             "#9c179e"
            ],
            [
             0.4444444444444444,
             "#bd3786"
            ],
            [
             0.5555555555555556,
             "#d8576b"
            ],
            [
             0.6666666666666666,
             "#ed7953"
            ],
            [
             0.7777777777777778,
             "#fb9f3a"
            ],
            [
             0.8888888888888888,
             "#fdca26"
            ],
            [
             1,
             "#f0f921"
            ]
           ],
           "sequentialminus": [
            [
             0,
             "#0d0887"
            ],
            [
             0.1111111111111111,
             "#46039f"
            ],
            [
             0.2222222222222222,
             "#7201a8"
            ],
            [
             0.3333333333333333,
             "#9c179e"
            ],
            [
             0.4444444444444444,
             "#bd3786"
            ],
            [
             0.5555555555555556,
             "#d8576b"
            ],
            [
             0.6666666666666666,
             "#ed7953"
            ],
            [
             0.7777777777777778,
             "#fb9f3a"
            ],
            [
             0.8888888888888888,
             "#fdca26"
            ],
            [
             1,
             "#f0f921"
            ]
           ]
          },
          "colorway": [
           "#636efa",
           "#EF553B",
           "#00cc96",
           "#ab63fa",
           "#FFA15A",
           "#19d3f3",
           "#FF6692",
           "#B6E880",
           "#FF97FF",
           "#FECB52"
          ],
          "font": {
           "color": "#2a3f5f"
          },
          "geo": {
           "bgcolor": "white",
           "lakecolor": "white",
           "landcolor": "#E5ECF6",
           "showlakes": true,
           "showland": true,
           "subunitcolor": "white"
          },
          "hoverlabel": {
           "align": "left"
          },
          "hovermode": "closest",
          "mapbox": {
           "style": "light"
          },
          "paper_bgcolor": "white",
          "plot_bgcolor": "#E5ECF6",
          "polar": {
           "angularaxis": {
            "gridcolor": "white",
            "linecolor": "white",
            "ticks": ""
           },
           "bgcolor": "#E5ECF6",
           "radialaxis": {
            "gridcolor": "white",
            "linecolor": "white",
            "ticks": ""
           }
          },
          "scene": {
           "xaxis": {
            "backgroundcolor": "#E5ECF6",
            "gridcolor": "white",
            "gridwidth": 2,
            "linecolor": "white",
            "showbackground": true,
            "ticks": "",
            "zerolinecolor": "white"
           },
           "yaxis": {
            "backgroundcolor": "#E5ECF6",
            "gridcolor": "white",
            "gridwidth": 2,
            "linecolor": "white",
            "showbackground": true,
            "ticks": "",
            "zerolinecolor": "white"
           },
           "zaxis": {
            "backgroundcolor": "#E5ECF6",
            "gridcolor": "white",
            "gridwidth": 2,
            "linecolor": "white",
            "showbackground": true,
            "ticks": "",
            "zerolinecolor": "white"
           }
          },
          "shapedefaults": {
           "line": {
            "color": "#2a3f5f"
           }
          },
          "ternary": {
           "aaxis": {
            "gridcolor": "white",
            "linecolor": "white",
            "ticks": ""
           },
           "baxis": {
            "gridcolor": "white",
            "linecolor": "white",
            "ticks": ""
           },
           "bgcolor": "#E5ECF6",
           "caxis": {
            "gridcolor": "white",
            "linecolor": "white",
            "ticks": ""
           }
          },
          "title": {
           "x": 0.05
          },
          "xaxis": {
           "automargin": true,
           "gridcolor": "white",
           "linecolor": "white",
           "ticks": "",
           "title": {
            "standoff": 15
           },
           "zerolinecolor": "white",
           "zerolinewidth": 2
          },
          "yaxis": {
           "automargin": true,
           "gridcolor": "white",
           "linecolor": "white",
           "ticks": "",
           "title": {
            "standoff": 15
           },
           "zerolinecolor": "white",
           "zerolinewidth": 2
          }
         }
        },
        "title": {
         "text": "Brand and Category Representation in YouTube Ads"
        }
       }
      }
     },
     "metadata": {},
     "output_type": "display_data"
    }
   ],
   "source": [
    "import plotly.express as px\n",
    "\n",
    "fig2 = px.sunburst(\n",
    "    df_melted,\n",
    "    path=['brand', 'category'],\n",
    "    values='value',  \n",
    "    color='brand',  \n",
    "    title=\"Brand and Category Representation in YouTube Ads\"\n",
    ")\n",
    "\n",
    "fig2.show()"
   ]
  },
  {
   "cell_type": "code",
   "execution_count": 42,
   "metadata": {},
   "outputs": [],
   "source": [
    "# Save interactive image to Graphs folder \n",
    "file_path = '/Users/maia/Desktop/NU-VIRT-DATA-PT-10-2023-U-LOLC/03-Projects/Project_3/Graphs/ad_characteristic_sunburst.html'\n",
    "\n",
    "# Export as an interactive HTML file\n",
    "fig2.write_html(file_path)"
   ]
  }
 ],
 "metadata": {
  "kernelspec": {
   "display_name": "dev",
   "language": "python",
   "name": "python3"
  },
  "language_info": {
   "codemirror_mode": {
    "name": "ipython",
    "version": 3
   },
   "file_extension": ".py",
   "mimetype": "text/x-python",
   "name": "python",
   "nbconvert_exporter": "python",
   "pygments_lexer": "ipython3",
   "version": "3.10.13"
  }
 },
 "nbformat": 4,
 "nbformat_minor": 2
}
